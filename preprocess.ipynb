{
 "cells": [
  {
   "cell_type": "markdown",
   "metadata": {},
   "source": [
    "### Imports and paths"
   ]
  },
  {
   "cell_type": "code",
   "execution_count": 1,
   "metadata": {},
   "outputs": [],
   "source": [
    "import pandas as pd\n",
    "import os\n",
    "\n",
    "lyrics_csv = os.path.join(\"data/\", \"lyrics.csv\")"
   ]
  },
  {
   "cell_type": "markdown",
   "metadata": {},
   "source": [
    "### Load data\n",
    "\n",
    "Data from: https://www.kaggle.com/gyani95/380000-lyrics-from-metrolyrics/version/2"
   ]
  },
  {
   "cell_type": "code",
   "execution_count": 19,
   "metadata": {},
   "outputs": [
    {
     "data": {
      "text/html": [
       "<div>\n",
       "<style scoped>\n",
       "    .dataframe tbody tr th:only-of-type {\n",
       "        vertical-align: middle;\n",
       "    }\n",
       "\n",
       "    .dataframe tbody tr th {\n",
       "        vertical-align: top;\n",
       "    }\n",
       "\n",
       "    .dataframe thead th {\n",
       "        text-align: right;\n",
       "    }\n",
       "</style>\n",
       "<table border=\"1\" class=\"dataframe\">\n",
       "  <thead>\n",
       "    <tr style=\"text-align: right;\">\n",
       "      <th></th>\n",
       "      <th>index</th>\n",
       "      <th>song</th>\n",
       "      <th>year</th>\n",
       "      <th>artist</th>\n",
       "      <th>genre</th>\n",
       "      <th>lyrics</th>\n",
       "    </tr>\n",
       "  </thead>\n",
       "  <tbody>\n",
       "    <tr>\n",
       "      <th>0</th>\n",
       "      <td>0</td>\n",
       "      <td>ego-remix</td>\n",
       "      <td>2009</td>\n",
       "      <td>beyonce-knowles</td>\n",
       "      <td>Pop</td>\n",
       "      <td>Oh baby, how you doing?\\nYou know I'm gonna cu...</td>\n",
       "    </tr>\n",
       "    <tr>\n",
       "      <th>1</th>\n",
       "      <td>1</td>\n",
       "      <td>then-tell-me</td>\n",
       "      <td>2009</td>\n",
       "      <td>beyonce-knowles</td>\n",
       "      <td>Pop</td>\n",
       "      <td>playin' everything so easy,\\nit's like you see...</td>\n",
       "    </tr>\n",
       "    <tr>\n",
       "      <th>2</th>\n",
       "      <td>2</td>\n",
       "      <td>honesty</td>\n",
       "      <td>2009</td>\n",
       "      <td>beyonce-knowles</td>\n",
       "      <td>Pop</td>\n",
       "      <td>If you search\\nFor tenderness\\nIt isn't hard t...</td>\n",
       "    </tr>\n",
       "    <tr>\n",
       "      <th>3</th>\n",
       "      <td>3</td>\n",
       "      <td>you-are-my-rock</td>\n",
       "      <td>2009</td>\n",
       "      <td>beyonce-knowles</td>\n",
       "      <td>Pop</td>\n",
       "      <td>Oh oh oh I, oh oh oh I\\n[Verse 1:]\\nIf I wrote...</td>\n",
       "    </tr>\n",
       "    <tr>\n",
       "      <th>4</th>\n",
       "      <td>4</td>\n",
       "      <td>black-culture</td>\n",
       "      <td>2009</td>\n",
       "      <td>beyonce-knowles</td>\n",
       "      <td>Pop</td>\n",
       "      <td>Party the people, the people the party it's po...</td>\n",
       "    </tr>\n",
       "  </tbody>\n",
       "</table>\n",
       "</div>"
      ],
      "text/plain": [
       "   index             song  year           artist genre  \\\n",
       "0      0        ego-remix  2009  beyonce-knowles   Pop   \n",
       "1      1     then-tell-me  2009  beyonce-knowles   Pop   \n",
       "2      2          honesty  2009  beyonce-knowles   Pop   \n",
       "3      3  you-are-my-rock  2009  beyonce-knowles   Pop   \n",
       "4      4    black-culture  2009  beyonce-knowles   Pop   \n",
       "\n",
       "                                              lyrics  \n",
       "0  Oh baby, how you doing?\\nYou know I'm gonna cu...  \n",
       "1  playin' everything so easy,\\nit's like you see...  \n",
       "2  If you search\\nFor tenderness\\nIt isn't hard t...  \n",
       "3  Oh oh oh I, oh oh oh I\\n[Verse 1:]\\nIf I wrote...  \n",
       "4  Party the people, the people the party it's po...  "
      ]
     },
     "execution_count": 19,
     "metadata": {},
     "output_type": "execute_result"
    }
   ],
   "source": [
    "data_frame = pd.read_csv(lyrics_csv, encoding=\"utf8\", sep=\",\")\n",
    "data_frame.head()"
   ]
  },
  {
   "cell_type": "markdown",
   "metadata": {},
   "source": [
    "### Filter data frame\n",
    "\n",
    "We want to only look at songs from the pop genre, with dates between 1990 - 2020."
   ]
  },
  {
   "cell_type": "code",
   "execution_count": 25,
   "metadata": {},
   "outputs": [
    {
     "name": "stdout",
     "output_type": "stream",
     "text": [
      "<class 'pandas.core.frame.DataFrame'>\n",
      "Int64Index: 177115 entries, 249 to 362236\n",
      "Data columns (total 5 columns):\n",
      " #   Column  Non-Null Count   Dtype \n",
      "---  ------  --------------   ----- \n",
      " 0   song    177113 non-null  object\n",
      " 1   year    177115 non-null  int64 \n",
      " 2   artist  177115 non-null  object\n",
      " 3   genre   177115 non-null  object\n",
      " 4   lyrics  115531 non-null  object\n",
      "dtypes: int64(1), object(4)\n",
      "memory usage: 8.1+ MB\n"
     ]
    }
   ],
   "source": [
    "if \"index\" in data_frame:\n",
    "    del data_frame[\"index\"]\n",
    "\n",
    "# filter genre\n",
    "genres = [\"Pop\", \"Rock\"]\n",
    "data_frame =data_frame[~data_frame.genre.isin(genres)]\n",
    "\n",
    "# filter year\n",
    "start_year = 1990\n",
    "end_year = 2020\n",
    "mask = (data_frame['year'] > start_year) & (data_frame['year'] <= end_year)\n",
    "data_frame = data_frame.loc[mask]\n",
    "data_frame.info()"
   ]
  },
  {
   "cell_type": "markdown",
   "metadata": {},
   "source": [
    "### Get number of artists and genres and characters"
   ]
  },
  {
   "cell_type": "code",
   "execution_count": 40,
   "metadata": {},
   "outputs": [
    {
     "data": {
      "text/plain": [
       "(10, 11483, 37)"
      ]
     },
     "execution_count": 40,
     "metadata": {},
     "output_type": "execute_result"
    }
   ],
   "source": [
    "genre_count = len(data_frame[\"genre\"].unique())\n",
    "artist_count = len(data_frame[\"artist\"].unique())\n",
    "\n",
    "vocab_count = set()\n",
    "for row in data_frame[\"song\"]:\n",
    "    if type(row) == str:\n",
    "        for char in row:\n",
    "            vocab_count.add(char)\n",
    "genre_count, artist_count, len(vocab_count)"
   ]
  },
  {
   "cell_type": "markdown",
   "metadata": {},
   "source": [
    "### Prepare Data\n",
    "\n",
    "Do following transformations:\n",
    " - replace hypens in song with spaces\n",
    " - replace hypens in artist with spaces"
   ]
  },
  {
   "cell_type": "code",
   "execution_count": 30,
   "metadata": {},
   "outputs": [
    {
     "data": {
      "text/html": [
       "<div>\n",
       "<style scoped>\n",
       "    .dataframe tbody tr th:only-of-type {\n",
       "        vertical-align: middle;\n",
       "    }\n",
       "\n",
       "    .dataframe tbody tr th {\n",
       "        vertical-align: top;\n",
       "    }\n",
       "\n",
       "    .dataframe thead th {\n",
       "        text-align: right;\n",
       "    }\n",
       "</style>\n",
       "<table border=\"1\" class=\"dataframe\">\n",
       "  <thead>\n",
       "    <tr style=\"text-align: right;\">\n",
       "      <th></th>\n",
       "      <th>song</th>\n",
       "      <th>year</th>\n",
       "      <th>artist</th>\n",
       "      <th>genre</th>\n",
       "      <th>lyrics</th>\n",
       "    </tr>\n",
       "  </thead>\n",
       "  <tbody>\n",
       "    <tr>\n",
       "      <th>249</th>\n",
       "      <td>i got that</td>\n",
       "      <td>2007</td>\n",
       "      <td>eazy e</td>\n",
       "      <td>Hip-Hop</td>\n",
       "      <td>(horns)...\\n(chorus)\\nTimbo- When you hit me o...</td>\n",
       "    </tr>\n",
       "    <tr>\n",
       "      <th>250</th>\n",
       "      <td>8 ball remix</td>\n",
       "      <td>2007</td>\n",
       "      <td>eazy e</td>\n",
       "      <td>Hip-Hop</td>\n",
       "      <td>Verse 1:\\nI don't drink brass monkey, like to ...</td>\n",
       "    </tr>\n",
       "    <tr>\n",
       "      <th>251</th>\n",
       "      <td>extra special thankz</td>\n",
       "      <td>2007</td>\n",
       "      <td>eazy e</td>\n",
       "      <td>Hip-Hop</td>\n",
       "      <td>19 muthaphukkin 93,\\nand I'm back in this bitc...</td>\n",
       "    </tr>\n",
       "    <tr>\n",
       "      <th>252</th>\n",
       "      <td>boyz in da hood</td>\n",
       "      <td>2007</td>\n",
       "      <td>eazy e</td>\n",
       "      <td>Hip-Hop</td>\n",
       "      <td>Hey yo man, remember that shit Eazy did a whil...</td>\n",
       "    </tr>\n",
       "    <tr>\n",
       "      <th>253</th>\n",
       "      <td>automoblie</td>\n",
       "      <td>2007</td>\n",
       "      <td>eazy e</td>\n",
       "      <td>Hip-Hop</td>\n",
       "      <td>Yo, Dre, man, I take this bitch out to the mov...</td>\n",
       "    </tr>\n",
       "  </tbody>\n",
       "</table>\n",
       "</div>"
      ],
      "text/plain": [
       "                     song  year  artist    genre  \\\n",
       "249            i got that  2007  eazy e  Hip-Hop   \n",
       "250          8 ball remix  2007  eazy e  Hip-Hop   \n",
       "251  extra special thankz  2007  eazy e  Hip-Hop   \n",
       "252       boyz in da hood  2007  eazy e  Hip-Hop   \n",
       "253            automoblie  2007  eazy e  Hip-Hop   \n",
       "\n",
       "                                                lyrics  \n",
       "249  (horns)...\\n(chorus)\\nTimbo- When you hit me o...  \n",
       "250  Verse 1:\\nI don't drink brass monkey, like to ...  \n",
       "251  19 muthaphukkin 93,\\nand I'm back in this bitc...  \n",
       "252  Hey yo man, remember that shit Eazy did a whil...  \n",
       "253  Yo, Dre, man, I take this bitch out to the mov...  "
      ]
     },
     "execution_count": 30,
     "metadata": {},
     "output_type": "execute_result"
    }
   ],
   "source": [
    "data_frame[\"song\"] = data_frame[\"song\"].str.replace(\"-\", \" \")\n",
    "data_frame[\"artist\"] = data_frame[\"artist\"].str.replace(\"-\", \" \")\n",
    "data_frame.head()"
   ]
  },
  {
   "cell_type": "markdown",
   "metadata": {},
   "source": [
    "### Save data"
   ]
  },
  {
   "cell_type": "code",
   "execution_count": 31,
   "metadata": {},
   "outputs": [],
   "source": [
    "save_path = os.path.join(\"data/\", \"preprocessed_lyrics.csv\")\n",
    "data_frame.to_csv(save_path, encoding=\"utf8\", sep=\",\", index=False)"
   ]
  },
  {
   "cell_type": "code",
   "execution_count": null,
   "metadata": {},
   "outputs": [],
   "source": []
  }
 ],
 "metadata": {
  "kernelspec": {
   "display_name": "Python 3",
   "language": "python",
   "name": "python3"
  },
  "language_info": {
   "codemirror_mode": {
    "name": "ipython",
    "version": 3
   },
   "file_extension": ".py",
   "mimetype": "text/x-python",
   "name": "python",
   "nbconvert_exporter": "python",
   "pygments_lexer": "ipython3",
   "version": "3.7.6"
  }
 },
 "nbformat": 4,
 "nbformat_minor": 4
}
