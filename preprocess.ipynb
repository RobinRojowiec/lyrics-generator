{
 "cells": [
  {
   "cell_type": "markdown",
   "metadata": {},
   "source": [
    "## Download data\n",
    "\n",
    "Data from: https://www.kaggle.com/gyani95/380000-lyrics-from-metrolyrics/version/2"
   ]
  },
  {
   "cell_type": "code",
   "execution_count": null,
   "metadata": {},
   "outputs": [],
   "source": [
    "import requests\n",
    "from zipfile import ZipFile\n",
    "download_link = \"https://lyrics-generator1.s3.eu-central-1.amazonaws.com/380000-lyrics-from-metrolyrics.zip\"\n",
    "zip_file = \"data/lyrics.zip\"\n",
    "\n",
    "def download_url(url, save_path, chunk_size=128):\n",
    "    r = requests.get(url, stream=True)\n",
    "    with open(save_path, 'wb') as fd:\n",
    "        for chunk in r.iter_content(chunk_size=chunk_size):\n",
    "            fd.write(chunk)\n",
    "\n",
    "download_url(download_link, zip_file)\n",
    "\n",
    "# Create a ZipFile Object and load sample.zip in it\n",
    "with ZipFile(zip_file, 'r') as zipObj:\n",
    "   # Extract all the contents of zip file in different directory\n",
    "   zipObj.extractall('data/')\n",
    "    \n",
    "# delete zip file after extracting the data\n",
    "os.remove(zip_file)"
   ]
  },
  {
   "cell_type": "markdown",
   "metadata": {},
   "source": [
    "### Imports and paths"
   ]
  },
  {
   "cell_type": "code",
   "execution_count": 1,
   "metadata": {},
   "outputs": [],
   "source": [
    "import pandas as pd\n",
    "import os\n",
    "from tqdm import tqdm\n",
    "\n",
    "lyrics_csv = os.path.join(\"data/\", \"lyrics.csv\")"
   ]
  },
  {
   "cell_type": "code",
   "execution_count": 2,
   "metadata": {},
   "outputs": [
    {
     "data": {
      "text/html": [
       "<div>\n",
       "<style scoped>\n",
       "    .dataframe tbody tr th:only-of-type {\n",
       "        vertical-align: middle;\n",
       "    }\n",
       "\n",
       "    .dataframe tbody tr th {\n",
       "        vertical-align: top;\n",
       "    }\n",
       "\n",
       "    .dataframe thead th {\n",
       "        text-align: right;\n",
       "    }\n",
       "</style>\n",
       "<table border=\"1\" class=\"dataframe\">\n",
       "  <thead>\n",
       "    <tr style=\"text-align: right;\">\n",
       "      <th></th>\n",
       "      <th>index</th>\n",
       "      <th>song</th>\n",
       "      <th>year</th>\n",
       "      <th>artist</th>\n",
       "      <th>genre</th>\n",
       "      <th>lyrics</th>\n",
       "    </tr>\n",
       "  </thead>\n",
       "  <tbody>\n",
       "    <tr>\n",
       "      <th>0</th>\n",
       "      <td>0</td>\n",
       "      <td>ego-remix</td>\n",
       "      <td>2009</td>\n",
       "      <td>beyonce-knowles</td>\n",
       "      <td>Pop</td>\n",
       "      <td>Oh baby, how you doing?\\nYou know I'm gonna cu...</td>\n",
       "    </tr>\n",
       "    <tr>\n",
       "      <th>1</th>\n",
       "      <td>1</td>\n",
       "      <td>then-tell-me</td>\n",
       "      <td>2009</td>\n",
       "      <td>beyonce-knowles</td>\n",
       "      <td>Pop</td>\n",
       "      <td>playin' everything so easy,\\nit's like you see...</td>\n",
       "    </tr>\n",
       "    <tr>\n",
       "      <th>2</th>\n",
       "      <td>2</td>\n",
       "      <td>honesty</td>\n",
       "      <td>2009</td>\n",
       "      <td>beyonce-knowles</td>\n",
       "      <td>Pop</td>\n",
       "      <td>If you search\\nFor tenderness\\nIt isn't hard t...</td>\n",
       "    </tr>\n",
       "    <tr>\n",
       "      <th>3</th>\n",
       "      <td>3</td>\n",
       "      <td>you-are-my-rock</td>\n",
       "      <td>2009</td>\n",
       "      <td>beyonce-knowles</td>\n",
       "      <td>Pop</td>\n",
       "      <td>Oh oh oh I, oh oh oh I\\n[Verse 1:]\\nIf I wrote...</td>\n",
       "    </tr>\n",
       "    <tr>\n",
       "      <th>4</th>\n",
       "      <td>4</td>\n",
       "      <td>black-culture</td>\n",
       "      <td>2009</td>\n",
       "      <td>beyonce-knowles</td>\n",
       "      <td>Pop</td>\n",
       "      <td>Party the people, the people the party it's po...</td>\n",
       "    </tr>\n",
       "  </tbody>\n",
       "</table>\n",
       "</div>"
      ],
      "text/plain": [
       "   index             song  year           artist genre  \\\n",
       "0      0        ego-remix  2009  beyonce-knowles   Pop   \n",
       "1      1     then-tell-me  2009  beyonce-knowles   Pop   \n",
       "2      2          honesty  2009  beyonce-knowles   Pop   \n",
       "3      3  you-are-my-rock  2009  beyonce-knowles   Pop   \n",
       "4      4    black-culture  2009  beyonce-knowles   Pop   \n",
       "\n",
       "                                              lyrics  \n",
       "0  Oh baby, how you doing?\\nYou know I'm gonna cu...  \n",
       "1  playin' everything so easy,\\nit's like you see...  \n",
       "2  If you search\\nFor tenderness\\nIt isn't hard t...  \n",
       "3  Oh oh oh I, oh oh oh I\\n[Verse 1:]\\nIf I wrote...  \n",
       "4  Party the people, the people the party it's po...  "
      ]
     },
     "execution_count": 2,
     "metadata": {},
     "output_type": "execute_result"
    }
   ],
   "source": [
    "data_frame = pd.read_csv(lyrics_csv, encoding=\"utf8\", sep=\",\")\n",
    "data_frame.head()"
   ]
  },
  {
   "cell_type": "code",
   "execution_count": 3,
   "metadata": {},
   "outputs": [
    {
     "data": {
      "text/plain": [
       "array(['Pop', 'Hip-Hop', 'Not Available', 'Other', 'Rock', 'Metal',\n",
       "       'Country', 'Jazz', 'Electronic', 'Folk', 'R&B', 'Indie'],\n",
       "      dtype=object)"
      ]
     },
     "execution_count": 3,
     "metadata": {},
     "output_type": "execute_result"
    }
   ],
   "source": [
    "data_frame[\"genre\"].unique()"
   ]
  },
  {
   "cell_type": "code",
   "execution_count": 4,
   "metadata": {},
   "outputs": [
    {
     "data": {
      "text/plain": [
       "array(['beyonce-knowles', 'eazy-e', 'asher-monroe', 'dick-mace',\n",
       "       'codigo-fn', 'bossacucanova', 'divine-destiny', 'antwon',\n",
       "       'alice-on-the-roof', 'daliah-lavi', 'doug-keith', 'borialis',\n",
       "       'demonaz', 'banda-carnaval', 'dave-sterling',\n",
       "       'achim-seifert-project', 'brightwood', 'cenk-r-lr-etin', 'destroy',\n",
       "       'gene-watson', 'bobby-charles', 'a-dream-too-late', 'farben-lehre',\n",
       "       'chloe-alesha', 'deichkind', 'fang', 'christi-warner',\n",
       "       '65daysofstatic', 'anna-waronker', 'the-books', 'the-contents-are',\n",
       "       'alathea', 'charly-rodriguez', 'fahrenheit-43', 'graveyard',\n",
       "       'chant', 'dorival-caymmi', 'droop-e', 'arcade-fire',\n",
       "       'atsumi-saori', 'funkadelic', 'arthur-big-boy-crudup',\n",
       "       'boy-wonder', 'chuckie', 'brian-simpson', 'audio-b5',\n",
       "       'carl-broemel', 'found', 'asia-nitollano', 'doug-hream-blunt',\n",
       "       'children-18-3', 'arsha', 'evan-taubenfeld', 'exit-this-side',\n",
       "       'brandi-carlile', 'echoterra', 'cfcf', 'detroit-marcella', 'b3',\n",
       "       'club-america', 'forever-tonight', 'gondwana', 'gnl',\n",
       "       'billy-bland', 'auntie-flo', 'chad-brownlee', 'cassie-marin',\n",
       "       'aubrie-sellers', 'beckett', 'the-easton-ellises', 'eljay',\n",
       "       'capleton', 'erok', 'andy-statman', 'dead-ceremony',\n",
       "       'fatima-mansions', 'gei', 'andy-m-stewart', 'flamboyant-bella',\n",
       "       'earls-of-leicester', 'claypool-lennon-delirium', 'earthtone9',\n",
       "       'coconut-sunday', 'coalo-zamorano', 'dreadful-shadows',\n",
       "       'the-boy-least-likely-to', 'franco-de-vita', 'c-w-stoneking',\n",
       "       'genghis-tron', 'desert-noises', 'al-stewart', 'the-colors',\n",
       "       'all-caps', 'fatih-erkorng', 'capture-the-crown', 'cheyo-carrillo',\n",
       "       'general-knas', 'busy-signal', 'astro-n-out', 'atreyu'],\n",
       "      dtype=object)"
      ]
     },
     "execution_count": 4,
     "metadata": {},
     "output_type": "execute_result"
    }
   ],
   "source": [
    "data_frame[\"artist\"].unique()[:100]"
   ]
  },
  {
   "cell_type": "markdown",
   "metadata": {},
   "source": [
    "### Filter data frame\n",
    "\n",
    "We want to only look at songs from the pop genre, with dates between 1990 - 2020."
   ]
  },
  {
   "cell_type": "code",
   "execution_count": 5,
   "metadata": {},
   "outputs": [
    {
     "name": "stdout",
     "output_type": "stream",
     "text": [
      "<class 'pandas.core.frame.DataFrame'>\n",
      "Int64Index: 1092 entries, 149250 to 329172\n",
      "Data columns (total 5 columns):\n",
      " #   Column  Non-Null Count  Dtype \n",
      "---  ------  --------------  ----- \n",
      " 0   song    1092 non-null   object\n",
      " 1   year    1092 non-null   int64 \n",
      " 2   artist  1092 non-null   object\n",
      " 3   genre   1092 non-null   object\n",
      " 4   lyrics  1092 non-null   object\n",
      "dtypes: int64(1), object(4)\n",
      "memory usage: 51.2+ KB\n"
     ]
    },
    {
     "data": {
      "text/plain": [
       "(None,\n",
       "                        song  year   artist genre  \\\n",
       " 149250             michelle  2009  beatles  Rock   \n",
       " 149251    what-goes-on-girl  2009  beatles  Rock   \n",
       " 149252    run-for-your-life  2009  beatles  Rock   \n",
       " 149253  if-i-needed-someone  2009  beatles  Rock   \n",
       " 149254     you-won-t-see-me  2009  beatles  Rock   \n",
       " \n",
       "                                                    lyrics  \n",
       " 149250  Michelle, ma belle\\nThese are words that go to...  \n",
       " 149251  I've got a word or two\\nTo say about the thing...  \n",
       " 149252  Well I'd rather see you dead, little girl\\nTha...  \n",
       " 149253  If I needed someone to love\\nYou're the one th...  \n",
       " 149254  When I call you up your line's engaged.\\nI hav...  )"
      ]
     },
     "execution_count": 5,
     "metadata": {},
     "output_type": "execute_result"
    }
   ],
   "source": [
    "if \"index\" in data_frame:\n",
    "    del data_frame[\"index\"]\n",
    "\n",
    "# filter genre\n",
    "genres = ['Pop', 'Rock']\n",
    "data_frame = data_frame[data_frame.genre.isin(genres)]\n",
    "\n",
    "# filter artist\n",
    "artists = ['elton-john', 'beatles']\n",
    "data_frame = data_frame[data_frame.artist.isin(artists)]\n",
    "\n",
    "# filter year\n",
    "start_year = 1970\n",
    "end_year = 2020\n",
    "mask = (data_frame['year'] > start_year) & (data_frame['year'] <= end_year)\n",
    "data_frame = data_frame.loc[mask]\n",
    "\n",
    "# filter nan lyrics, artists and genres\n",
    "data_frame = data_frame[data_frame.lyrics.notna()]\n",
    "data_frame = data_frame[data_frame.genre.notna()]\n",
    "data_frame = data_frame[data_frame.artist.notna()]\n",
    "\n",
    "data_frame.info(), data_frame.head()"
   ]
  },
  {
   "cell_type": "markdown",
   "metadata": {},
   "source": [
    "### Prepare Data\n",
    "\n",
    "Do following transformations:\n",
    " - replace hypens in song with spaces\n",
    " - replace hypens in artist with spaces\n",
    " - song texts in chunks of 32 characters"
   ]
  },
  {
   "cell_type": "code",
   "execution_count": 6,
   "metadata": {},
   "outputs": [
    {
     "data": {
      "text/plain": [
       "['beatles', 'elton john']"
      ]
     },
     "execution_count": 6,
     "metadata": {},
     "output_type": "execute_result"
    }
   ],
   "source": [
    "data_frame[\"song\"] = data_frame[\"song\"].str.replace(\"-\", \" \")\n",
    "data_frame[\"artist\"] = data_frame[\"artist\"].str.replace(\"-\", \" \")\n",
    "list(data_frame[\"artist\"].unique())[:100]"
   ]
  },
  {
   "cell_type": "code",
   "execution_count": 7,
   "metadata": {},
   "outputs": [
    {
     "name": "stdout",
     "output_type": "stream",
     "text": [
      "<class 'pandas.core.frame.DataFrame'>\n",
      "Index: 0 entries\n",
      "Data columns (total 5 columns):\n",
      " #   Column  Non-Null Count  Dtype \n",
      "---  ------  --------------  ----- \n",
      " 0   song    0 non-null      object\n",
      " 1   year    0 non-null      object\n",
      " 2   artist  0 non-null      object\n",
      " 3   genre   0 non-null      object\n",
      " 4   lyrics  0 non-null      object\n",
      "dtypes: object(5)\n",
      "memory usage: 0.0+ bytes\n",
      "None\n"
     ]
    },
    {
     "data": {
      "text/html": [
       "<div>\n",
       "<style scoped>\n",
       "    .dataframe tbody tr th:only-of-type {\n",
       "        vertical-align: middle;\n",
       "    }\n",
       "\n",
       "    .dataframe tbody tr th {\n",
       "        vertical-align: top;\n",
       "    }\n",
       "\n",
       "    .dataframe thead th {\n",
       "        text-align: right;\n",
       "    }\n",
       "</style>\n",
       "<table border=\"1\" class=\"dataframe\">\n",
       "  <thead>\n",
       "    <tr style=\"text-align: right;\">\n",
       "      <th></th>\n",
       "      <th>song</th>\n",
       "      <th>year</th>\n",
       "      <th>artist</th>\n",
       "      <th>genre</th>\n",
       "      <th>lyrics</th>\n",
       "    </tr>\n",
       "  </thead>\n",
       "  <tbody>\n",
       "    <tr>\n",
       "      <th>0</th>\n",
       "      <td>michelle</td>\n",
       "      <td>2009</td>\n",
       "      <td>beatles</td>\n",
       "      <td>Rock</td>\n",
       "      <td>Michelle, ma belle\\nThese are words that go to...</td>\n",
       "    </tr>\n",
       "    <tr>\n",
       "      <th>1</th>\n",
       "      <td>michelle</td>\n",
       "      <td>2009</td>\n",
       "      <td>beatles</td>\n",
       "      <td>Rock</td>\n",
       "      <td>elle\\nMichelle, ma belle\\nSont les mots qui vo...</td>\n",
       "    </tr>\n",
       "    <tr>\n",
       "      <th>2</th>\n",
       "      <td>michelle</td>\n",
       "      <td>2009</td>\n",
       "      <td>beatles</td>\n",
       "      <td>Rock</td>\n",
       "      <td>e\\nTres bien ensemble\\nI love you, I love you,...</td>\n",
       "    </tr>\n",
       "    <tr>\n",
       "      <th>3</th>\n",
       "      <td>michelle</td>\n",
       "      <td>2009</td>\n",
       "      <td>beatles</td>\n",
       "      <td>Rock</td>\n",
       "      <td>ll I want to say\\nUntil I find a way\\nI will s...</td>\n",
       "    </tr>\n",
       "    <tr>\n",
       "      <th>4</th>\n",
       "      <td>michelle</td>\n",
       "      <td>2009</td>\n",
       "      <td>beatles</td>\n",
       "      <td>Rock</td>\n",
       "      <td>know that you'll understand\\nMichelle, ma bell...</td>\n",
       "    </tr>\n",
       "  </tbody>\n",
       "</table>\n",
       "</div>"
      ],
      "text/plain": [
       "       song  year   artist genre  \\\n",
       "0  michelle  2009  beatles  Rock   \n",
       "1  michelle  2009  beatles  Rock   \n",
       "2  michelle  2009  beatles  Rock   \n",
       "3  michelle  2009  beatles  Rock   \n",
       "4  michelle  2009  beatles  Rock   \n",
       "\n",
       "                                              lyrics  \n",
       "0  Michelle, ma belle\\nThese are words that go to...  \n",
       "1  elle\\nMichelle, ma belle\\nSont les mots qui vo...  \n",
       "2  e\\nTres bien ensemble\\nI love you, I love you,...  \n",
       "3  ll I want to say\\nUntil I find a way\\nI will s...  \n",
       "4  know that you'll understand\\nMichelle, ma bell...  "
      ]
     },
     "execution_count": 7,
     "metadata": {},
     "output_type": "execute_result"
    }
   ],
   "source": [
    "new_data_frame = pd.DataFrame(columns=data_frame.columns)\n",
    "print(new_data_frame.info())\n",
    "chunk_size = 64\n",
    "for i, row in data_frame.iterrows():\n",
    "    lyrics_text = row[\"lyrics\"]\n",
    "    chunks = [lyrics_text[i:i+chunk_size] for i in range(0, len(lyrics_text), chunk_size)]\n",
    "    \n",
    "    for chunk in chunks:\n",
    "        new_data_frame = new_data_frame.append({\"song\": row[\"song\"], \"year\": row[\"year\"], \"artist\": row[\"artist\"], \"genre\": row[\"genre\"], \"lyrics\": chunk}, ignore_index=True)\n",
    "\n",
    "data_frame = new_data_frame\n",
    "data_frame.head()"
   ]
  },
  {
   "cell_type": "markdown",
   "metadata": {},
   "source": [
    "### Get number of artists and genres and characters"
   ]
  },
  {
   "cell_type": "code",
   "execution_count": 8,
   "metadata": {},
   "outputs": [
    {
     "data": {
      "text/plain": [
       "(1, 2, 96)"
      ]
     },
     "execution_count": 8,
     "metadata": {},
     "output_type": "execute_result"
    }
   ],
   "source": [
    "genre_count = len(data_frame[\"genre\"].unique())\n",
    "artist_count = len(data_frame[\"artist\"].unique())\n",
    "\n",
    "vocab_count = set()\n",
    "for row in data_frame[\"lyrics\"]:\n",
    "    if type(row) == str:\n",
    "        for char in row:\n",
    "            vocab_count.add(char)\n",
    "genre_count, artist_count, len(vocab_count)"
   ]
  },
  {
   "cell_type": "code",
   "execution_count": 9,
   "metadata": {},
   "outputs": [],
   "source": [
    "artists = list(data_frame[\"artist\"].unique())\n",
    "artists.sort(reverse=False)\n",
    "artist_string = \" - \".join([artist.replace(\"-\",\" \") + os.linesep for artist in artists])\n",
    "with open(\"data/artists.txt\", \"w+\", encoding=\"utf8\", newline='') as txt_file:\n",
    "    txt_file.write(artist_string)"
   ]
  },
  {
   "cell_type": "markdown",
   "metadata": {},
   "source": [
    "### Save data"
   ]
  },
  {
   "cell_type": "code",
   "execution_count": 10,
   "metadata": {},
   "outputs": [],
   "source": [
    "save_path = os.path.join(\"data/\", \"preprocessed_lyrics.csv\")\n",
    "data_frame.to_csv(save_path, encoding=\"utf8\", sep=\",\", index=False)"
   ]
  },
  {
   "cell_type": "code",
   "execution_count": null,
   "metadata": {},
   "outputs": [],
   "source": []
  }
 ],
 "metadata": {
  "kernelspec": {
   "display_name": "Python 3",
   "language": "python",
   "name": "python3"
  },
  "language_info": {
   "codemirror_mode": {
    "name": "ipython",
    "version": 3
   },
   "file_extension": ".py",
   "mimetype": "text/x-python",
   "name": "python",
   "nbconvert_exporter": "python",
   "pygments_lexer": "ipython3",
   "version": "3.7.6"
  }
 },
 "nbformat": 4,
 "nbformat_minor": 4
}
