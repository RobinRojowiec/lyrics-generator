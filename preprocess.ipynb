{
 "cells": [
  {
   "cell_type": "markdown",
   "metadata": {},
   "source": [
    "## Download data\n",
    "\n",
    "Data from: https://www.kaggle.com/gyani95/380000-lyrics-from-metrolyrics/version/2"
   ]
  },
  {
   "cell_type": "code",
   "execution_count": null,
   "metadata": {},
   "outputs": [],
   "source": [
    "import requests\n",
    "from zipfile import ZipFile\n",
    "download_link = \"https://lyrics-generator1.s3.eu-central-1.amazonaws.com/380000-lyrics-from-metrolyrics.zip\"\n",
    "zip_file = \"download/lyrics.zip\"\n",
    "\n",
    "def download_url(url, save_path, chunk_size=128):\n",
    "    r = requests.get(url, stream=True)\n",
    "    with open(save_path, 'wb') as fd:\n",
    "        for chunk in r.iter_content(chunk_size=chunk_size):\n",
    "            fd.write(chunk)\n",
    "\n",
    "download_url(download_link, zip_file)\n",
    "\n",
    "# Create a ZipFile Object and load sample.zip in it\n",
    "with ZipFile(zip_file, 'r') as zipObj:\n",
    "   # Extract all the contents of zip file in different directory\n",
    "   zipObj.extractall('download/')\n",
    "    \n",
    "# delete zip file after extracting the data\n",
    "os.remove(zip_file)"
   ]
  },
  {
   "cell_type": "markdown",
   "metadata": {},
   "source": [
    "### Imports and paths"
   ]
  },
  {
   "cell_type": "code",
   "execution_count": 18,
   "metadata": {},
   "outputs": [],
   "source": [
    "import pandas as pd\n",
    "import os\n",
    "import string\n",
    "download_path = \"download/\"\n",
    "lyrics_csv = os.path.join(download_path, \"lyrics.csv\")"
   ]
  },
  {
   "cell_type": "code",
   "execution_count": 19,
   "metadata": {},
   "outputs": [
    {
     "data": {
      "text/html": [
       "<div>\n",
       "<style scoped>\n",
       "    .dataframe tbody tr th:only-of-type {\n",
       "        vertical-align: middle;\n",
       "    }\n",
       "\n",
       "    .dataframe tbody tr th {\n",
       "        vertical-align: top;\n",
       "    }\n",
       "\n",
       "    .dataframe thead th {\n",
       "        text-align: right;\n",
       "    }\n",
       "</style>\n",
       "<table border=\"1\" class=\"dataframe\">\n",
       "  <thead>\n",
       "    <tr style=\"text-align: right;\">\n",
       "      <th></th>\n",
       "      <th>index</th>\n",
       "      <th>song</th>\n",
       "      <th>year</th>\n",
       "      <th>artist</th>\n",
       "      <th>genre</th>\n",
       "      <th>lyrics</th>\n",
       "    </tr>\n",
       "  </thead>\n",
       "  <tbody>\n",
       "    <tr>\n",
       "      <th>0</th>\n",
       "      <td>0</td>\n",
       "      <td>ego-remix</td>\n",
       "      <td>2009</td>\n",
       "      <td>beyonce-knowles</td>\n",
       "      <td>Pop</td>\n",
       "      <td>Oh baby, how you doing?\\nYou know I'm gonna cu...</td>\n",
       "    </tr>\n",
       "    <tr>\n",
       "      <th>1</th>\n",
       "      <td>1</td>\n",
       "      <td>then-tell-me</td>\n",
       "      <td>2009</td>\n",
       "      <td>beyonce-knowles</td>\n",
       "      <td>Pop</td>\n",
       "      <td>playin' everything so easy,\\nit's like you see...</td>\n",
       "    </tr>\n",
       "    <tr>\n",
       "      <th>2</th>\n",
       "      <td>2</td>\n",
       "      <td>honesty</td>\n",
       "      <td>2009</td>\n",
       "      <td>beyonce-knowles</td>\n",
       "      <td>Pop</td>\n",
       "      <td>If you search\\nFor tenderness\\nIt isn't hard t...</td>\n",
       "    </tr>\n",
       "    <tr>\n",
       "      <th>3</th>\n",
       "      <td>3</td>\n",
       "      <td>you-are-my-rock</td>\n",
       "      <td>2009</td>\n",
       "      <td>beyonce-knowles</td>\n",
       "      <td>Pop</td>\n",
       "      <td>Oh oh oh I, oh oh oh I\\n[Verse 1:]\\nIf I wrote...</td>\n",
       "    </tr>\n",
       "    <tr>\n",
       "      <th>4</th>\n",
       "      <td>4</td>\n",
       "      <td>black-culture</td>\n",
       "      <td>2009</td>\n",
       "      <td>beyonce-knowles</td>\n",
       "      <td>Pop</td>\n",
       "      <td>Party the people, the people the party it's po...</td>\n",
       "    </tr>\n",
       "  </tbody>\n",
       "</table>\n",
       "</div>"
      ],
      "text/plain": [
       "   index             song  year           artist genre  \\\n",
       "0      0        ego-remix  2009  beyonce-knowles   Pop   \n",
       "1      1     then-tell-me  2009  beyonce-knowles   Pop   \n",
       "2      2          honesty  2009  beyonce-knowles   Pop   \n",
       "3      3  you-are-my-rock  2009  beyonce-knowles   Pop   \n",
       "4      4    black-culture  2009  beyonce-knowles   Pop   \n",
       "\n",
       "                                              lyrics  \n",
       "0  Oh baby, how you doing?\\nYou know I'm gonna cu...  \n",
       "1  playin' everything so easy,\\nit's like you see...  \n",
       "2  If you search\\nFor tenderness\\nIt isn't hard t...  \n",
       "3  Oh oh oh I, oh oh oh I\\n[Verse 1:]\\nIf I wrote...  \n",
       "4  Party the people, the people the party it's po...  "
      ]
     },
     "execution_count": 19,
     "metadata": {},
     "output_type": "execute_result"
    }
   ],
   "source": [
    "data_frame = pd.read_csv(lyrics_csv, encoding=\"utf8\", sep=\",\")\n",
    "data_frame.head()"
   ]
  },
  {
   "cell_type": "code",
   "execution_count": 20,
   "metadata": {},
   "outputs": [
    {
     "data": {
      "text/plain": [
       "Rock             0.362682\n",
       "Pop              0.136496\n",
       "Hip-Hop          0.093765\n",
       "Not Available    0.082305\n",
       "Metal            0.078424\n",
       "Other            0.065380\n",
       "Country          0.047720\n",
       "Jazz             0.047336\n",
       "Electronic       0.044736\n",
       "R&B              0.016384\n",
       "Indie            0.015824\n",
       "Folk             0.008947\n",
       "Name: genre, dtype: float64"
      ]
     },
     "execution_count": 20,
     "metadata": {},
     "output_type": "execute_result"
    }
   ],
   "source": [
    "data_frame[\"genre\"].value_counts(normalize=True)[:20]"
   ]
  },
  {
   "cell_type": "code",
   "execution_count": 21,
   "metadata": {},
   "outputs": [
    {
     "data": {
      "text/plain": [
       "dolly-parton                755\n",
       "american-idol               700\n",
       "elton-john                  680\n",
       "b-b-king                    667\n",
       "chris-brown                 655\n",
       "eddy-arnold                 628\n",
       "barbra-streisand            624\n",
       "ella-fitzgerald             623\n",
       "bob-dylan                   614\n",
       "david-bowie                 599\n",
       "bee-gees                    599\n",
       "dean-martin                 593\n",
       "eminem                      589\n",
       "celine-dion                 551\n",
       "frank-zappa                 550\n",
       "bruce-springsteen           534\n",
       "elvis-costello              534\n",
       "eric-clapton                522\n",
       "beach-boys                  520\n",
       "bill-anderson               473\n",
       "chicago                     461\n",
       "frank-sinatra               435\n",
       "beatles                     429\n",
       "chamillionaire              428\n",
       "50-cent                     425\n",
       "chumbawamba                 423\n",
       "britney-spears              422\n",
       "diana-ross                  420\n",
       "emmylou-harris              419\n",
       "cedarmont-kids              417\n",
       "bon-jovi                    407\n",
       "fall                        404\n",
       "armin-van-buuren            397\n",
       "2pac                        386\n",
       "drake                       386\n",
       "disney                      381\n",
       "die-toten-hosen             379\n",
       "game                        379\n",
       "barry-manilow               378\n",
       "e-40                        374\n",
       "elvis-presley               373\n",
       "babyface                    368\n",
       "fleetwood-mac               365\n",
       "buck-owens                  357\n",
       "conway-twitty               355\n",
       "aretha-franklin             354\n",
       "electric-light-orchestra    351\n",
       "cliff-richard               346\n",
       "ernest-tubb                 335\n",
       "bill-evans                  333\n",
       "Name: artist, dtype: int64"
      ]
     },
     "execution_count": 21,
     "metadata": {},
     "output_type": "execute_result"
    }
   ],
   "source": [
    "data_frame[\"artist\"].value_counts()[:50]"
   ]
  },
  {
   "cell_type": "markdown",
   "metadata": {},
   "source": [
    "### Filter data frame\n",
    "\n",
    "We want to only look at songs from the pop genre, with dates between 1990 - 2020."
   ]
  },
  {
   "cell_type": "code",
   "execution_count": 22,
   "metadata": {},
   "outputs": [
    {
     "name": "stdout",
     "output_type": "stream",
     "text": [
      "['Rock', 'Pop', 'Hip-Hop'] 3\n"
     ]
    },
    {
     "data": {
      "text/plain": [
       "(['elton-john',\n",
       "  'b-b-king',\n",
       "  'bob-dylan',\n",
       "  'david-bowie',\n",
       "  'frank-zappa',\n",
       "  'elvis-costello',\n",
       "  'bruce-springsteen',\n",
       "  'eric-clapton',\n",
       "  'beach-boys',\n",
       "  'chicago',\n",
       "  'american-idol',\n",
       "  'barbra-streisand',\n",
       "  'bee-gees',\n",
       "  'celine-dion',\n",
       "  'britney-spears',\n",
       "  'diana-ross',\n",
       "  'disney',\n",
       "  'gary-numan',\n",
       "  'akon',\n",
       "  'dusty-springfield',\n",
       "  'chris-brown',\n",
       "  'eminem',\n",
       "  'chamillionaire',\n",
       "  '50-cent',\n",
       "  'drake',\n",
       "  '2pac',\n",
       "  'game',\n",
       "  'e-40',\n",
       "  'chief-keef',\n",
       "  'busta-rhymes'],\n",
       " 30)"
      ]
     },
     "execution_count": 22,
     "metadata": {},
     "output_type": "execute_result"
    }
   ],
   "source": [
    "top_genres = 3\n",
    "genres = [value for value in data_frame[\"genre\"].value_counts()[:top_genres].to_dict().keys()]\n",
    "print(genres, len(genres))\n",
    "\n",
    "top_artists_per_genre = 10\n",
    "artists = []\n",
    "for genre in genres:\n",
    "    artists.extend([key for key in data_frame[data_frame.genre==genre][\"artist\"].value_counts()[:top_artists_per_genre].to_dict().keys()])\n",
    "artists, len(artists)"
   ]
  },
  {
   "cell_type": "code",
   "execution_count": 23,
   "metadata": {},
   "outputs": [
    {
     "name": "stdout",
     "output_type": "stream",
     "text": [
      "<class 'pandas.core.frame.DataFrame'>\n",
      "Int64Index: 13197 entries, 8636 to 354460\n",
      "Data columns (total 5 columns):\n",
      " #   Column  Non-Null Count  Dtype \n",
      "---  ------  --------------  ----- \n",
      " 0   song    13197 non-null  object\n",
      " 1   year    13197 non-null  int64 \n",
      " 2   artist  13197 non-null  object\n",
      " 3   genre   13197 non-null  object\n",
      " 4   lyrics  13197 non-null  object\n",
      "dtypes: int64(1), object(4)\n",
      "memory usage: 618.6+ KB\n"
     ]
    },
    {
     "data": {
      "text/plain": [
       "(None,\n",
       "                             song  year   artist    genre  \\\n",
       " 8636              the-invitation  2009  50-cent  Hip-Hop   \n",
       " 8637  better-come-on-your-a-game  2009  50-cent  Hip-Hop   \n",
       " 8638               longon-girl-2  2009  50-cent  Hip-Hop   \n",
       " 8639                   hard-rock  2009  50-cent  Hip-Hop   \n",
       " 8640               i-line-niggas  2009  50-cent  Hip-Hop   \n",
       " \n",
       "                                                  lyrics  \n",
       " 8636  I had five hundred grams in fifty-fifty-eight ...  \n",
       " 8637  [Chorus: 50 Cent]\\nNigga try and come play me\\...  \n",
       " 8638  {DAMN!}\\n[Intro: {DJ Whoo KidDJ Whoo Kid}]\\nUh...  \n",
       " 8639  [Ester Dean]\\nHere we go ready hard rock\\nHere...  \n",
       " 8640  [Intro]\\nI'm tryin to tell you but you won't h...  )"
      ]
     },
     "execution_count": 23,
     "metadata": {},
     "output_type": "execute_result"
    }
   ],
   "source": [
    "if \"index\" in data_frame:\n",
    "    del data_frame[\"index\"]\n",
    "\n",
    "# filter genre and rtist\n",
    "data_frame = data_frame[data_frame.genre.isin(genres)]\n",
    "data_frame = data_frame[data_frame.artist.isin(artists)]\n",
    "\n",
    "\n",
    "# filter year\n",
    "start_year = 1970\n",
    "end_year = 2020\n",
    "mask = (data_frame['year'] > start_year) & (data_frame['year'] <= end_year)\n",
    "data_frame = data_frame.loc[mask]\n",
    "\n",
    "# filter nan lyrics, artists and genres\n",
    "data_frame = data_frame[data_frame.lyrics.notna()]\n",
    "data_frame = data_frame[data_frame.genre.notna()]\n",
    "data_frame = data_frame[data_frame.artist.notna()]\n",
    "\n",
    "data_frame.info(), data_frame.head()"
   ]
  },
  {
   "cell_type": "markdown",
   "metadata": {},
   "source": [
    "### Prepare Data\n",
    "\n",
    "Do following transformations:\n",
    " - replace hypens in song with spaces\n",
    " - replace hypens in artist with spaces\n",
    " - song texts in chunks of 32 characters"
   ]
  },
  {
   "cell_type": "code",
   "execution_count": 24,
   "metadata": {},
   "outputs": [
    {
     "data": {
      "text/plain": [
       "['50 cent',\n",
       " 'game',\n",
       " 'e 40',\n",
       " 'eric clapton',\n",
       " 'bruce springsteen',\n",
       " 'david bowie',\n",
       " 'chris brown',\n",
       " '2pac',\n",
       " 'britney spears',\n",
       " 'disney',\n",
       " 'bee gees',\n",
       " 'bob dylan',\n",
       " 'chief keef',\n",
       " 'b b king',\n",
       " 'celine dion',\n",
       " 'drake',\n",
       " 'dusty springfield',\n",
       " 'gary numan',\n",
       " 'elvis costello',\n",
       " 'chicago',\n",
       " 'chamillionaire',\n",
       " 'barbra streisand',\n",
       " 'american idol',\n",
       " 'akon',\n",
       " 'eminem',\n",
       " 'beach boys',\n",
       " 'elton john',\n",
       " 'frank zappa',\n",
       " 'busta rhymes',\n",
       " 'diana ross']"
      ]
     },
     "execution_count": 24,
     "metadata": {},
     "output_type": "execute_result"
    }
   ],
   "source": [
    "data_frame[\"song\"] = data_frame[\"song\"].str.replace(\"-\", \" \")\n",
    "data_frame[\"artist\"] = data_frame[\"artist\"].str.replace(\"-\", \" \")\n",
    "list(data_frame[\"artist\"].unique())[:100]"
   ]
  },
  {
   "cell_type": "code",
   "execution_count": 32,
   "metadata": {
    "scrolled": true
   },
   "outputs": [],
   "source": [
    "new_data_frame = pd.DataFrame(columns=data_frame.columns)\n",
    "save_path = os.path.join(\"data/\", \"preprocessed_lyrics.csv\")\n",
    "new_data_frame.to_csv(save_path, mode=\"w+\", encoding=\"utf8\", sep=\",\", index=False)\n",
    "\n",
    "# define string filter\n",
    "def filter_characters(lyrics_text):\n",
    "    allowed_chars = string.whitespace + string.ascii_letters + string.digits + \"\\\"$%&'()*,-:;\\n\\r\"\n",
    "    lyrics_text = ''.join(c for c in lyrics_text if c in allowed_chars)\n",
    "    return lyrics_text\n",
    "\n",
    "# save data every 100 rows\n",
    "save_interval = 10\n",
    "chunk_size = 32\n",
    "for i, row in data_frame.iterrows():\n",
    "    lyrics_text = filter_characters(row[\"lyrics\"])\n",
    "    lyrics_text = '<start> ' + row[\"lyrics\"] + ' <end>'\n",
    "    chunks = [lyrics_text[i:i+chunk_size] for i in range(0, len(lyrics_text), chunk_size)]\n",
    "    \n",
    "    for chunk in chunks:\n",
    "        new_data_frame = new_data_frame.append({\"song\": row[\"song\"], \"year\": row[\"year\"], \"artist\": row[\"artist\"], \"genre\": row[\"genre\"], \"lyrics\": chunk}, ignore_index=True)\n",
    "        \n",
    "    if i % save_interval == 0 and i > 0:\n",
    "        new_data_frame.to_csv(save_path, mode=\"a\", encoding=\"utf8\", sep=\",\", index=False, header=False)\n",
    "        new_data_frame = new_data_frame.iloc[0:0]\n"
   ]
  },
  {
   "cell_type": "markdown",
   "metadata": {},
   "source": [
    "### Get number of artists and genres and characters"
   ]
  },
  {
   "cell_type": "code",
   "execution_count": null,
   "metadata": {},
   "outputs": [],
   "source": [
    "genre_count = len(new_data_frame[\"genre\"].unique())\n",
    "artist_count = len(new_data_frame[\"artist\"].unique())\n",
    "\n",
    "vocab_count = set()\n",
    "for row in new_data_frame[\"lyrics\"]:\n",
    "    if type(row) == str:\n",
    "        for char in row:\n",
    "            vocab_count.add(char)\n",
    "genre_count, artist_count, len(vocab_count)"
   ]
  },
  {
   "cell_type": "code",
   "execution_count": null,
   "metadata": {},
   "outputs": [],
   "source": []
  }
 ],
 "metadata": {
  "kernelspec": {
   "display_name": "Python 3",
   "language": "python",
   "name": "python3"
  },
  "language_info": {
   "codemirror_mode": {
    "name": "ipython",
    "version": 3
   },
   "file_extension": ".py",
   "mimetype": "text/x-python",
   "name": "python",
   "nbconvert_exporter": "python",
   "pygments_lexer": "ipython3",
   "version": "3.7.6"
  }
 },
 "nbformat": 4,
 "nbformat_minor": 4
}
